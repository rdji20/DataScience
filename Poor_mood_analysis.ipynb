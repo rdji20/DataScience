{
 "cells": [
  {
   "cell_type": "markdown",
   "id": "ad908ed9-8a89-4c99-b05b-7fc7e6772506",
   "metadata": {},
   "source": [
    "# Poor mood analysis"
   ]
  },
  {
   "cell_type": "markdown",
   "id": "51723a0d-d7ed-4ffc-9f29-43c2c1b90f21",
   "metadata": {},
   "source": [
    "This is an analysis to understand the correlation and probable prediction of bad mood related with time spend watching a screen. \n",
    "\n",
    "Table of contents:\n",
    "1. Data cleaning and transformation\n",
    "2. Model Creation\n",
    "    - Data visualization\n",
    "3. Interpreation of results\n",
    "4. Personal opinion"
   ]
  },
  {
   "cell_type": "code",
   "execution_count": 50,
   "id": "f565e4bf-79ec-425c-a76f-763d54dabbe1",
   "metadata": {},
   "outputs": [],
   "source": [
    "import pandas as pd\n",
    "import numpy as np"
   ]
  },
  {
   "cell_type": "markdown",
   "id": "c422cdc9-8379-418a-ade2-38f33cc8df0a",
   "metadata": {},
   "source": [
    "## 1. Data cleaning and transformation"
   ]
  },
  {
   "cell_type": "code",
   "execution_count": 51,
   "id": "faf7daf6-f40c-4a13-8dec-7c7d646ec8db",
   "metadata": {},
   "outputs": [
    {
     "data": {
      "text/html": [
       "<div>\n",
       "<style scoped>\n",
       "    .dataframe tbody tr th:only-of-type {\n",
       "        vertical-align: middle;\n",
       "    }\n",
       "\n",
       "    .dataframe tbody tr th {\n",
       "        vertical-align: top;\n",
       "    }\n",
       "\n",
       "    .dataframe thead th {\n",
       "        text-align: right;\n",
       "    }\n",
       "</style>\n",
       "<table border=\"1\" class=\"dataframe\">\n",
       "  <thead>\n",
       "    <tr style=\"text-align: right;\">\n",
       "      <th></th>\n",
       "      <th>County</th>\n",
       "      <th>Region</th>\n",
       "      <th>State</th>\n",
       "      <th>Screen time hours</th>\n",
       "      <th>Poor mood percent of time</th>\n",
       "    </tr>\n",
       "  </thead>\n",
       "  <tbody>\n",
       "    <tr>\n",
       "      <th>0</th>\n",
       "      <td>Shelby</td>\n",
       "      <td>South</td>\n",
       "      <td>Alabama</td>\n",
       "      <td>8.0</td>\n",
       "      <td>0.176</td>\n",
       "    </tr>\n",
       "    <tr>\n",
       "      <th>1</th>\n",
       "      <td>Lee</td>\n",
       "      <td>South</td>\n",
       "      <td>Alabama</td>\n",
       "      <td>8.0</td>\n",
       "      <td>0.176</td>\n",
       "    </tr>\n",
       "    <tr>\n",
       "      <th>2</th>\n",
       "      <td>Elmore</td>\n",
       "      <td>South</td>\n",
       "      <td>Alabama</td>\n",
       "      <td>8.0</td>\n",
       "      <td>0.176</td>\n",
       "    </tr>\n",
       "    <tr>\n",
       "      <th>3</th>\n",
       "      <td>Tuscaloosa</td>\n",
       "      <td>South</td>\n",
       "      <td>Alabama</td>\n",
       "      <td>8.0</td>\n",
       "      <td>0.176</td>\n",
       "    </tr>\n",
       "    <tr>\n",
       "      <th>4</th>\n",
       "      <td>Madison</td>\n",
       "      <td>South</td>\n",
       "      <td>Alabama</td>\n",
       "      <td>8.0</td>\n",
       "      <td>0.176</td>\n",
       "    </tr>\n",
       "  </tbody>\n",
       "</table>\n",
       "</div>"
      ],
      "text/plain": [
       "       County Region    State  Screen time hours  Poor mood percent of time\n",
       "0      Shelby  South  Alabama                8.0                      0.176\n",
       "1         Lee  South  Alabama                8.0                      0.176\n",
       "2      Elmore  South  Alabama                8.0                      0.176\n",
       "3  Tuscaloosa  South  Alabama                8.0                      0.176\n",
       "4     Madison  South  Alabama                8.0                      0.176"
      ]
     },
     "execution_count": 51,
     "metadata": {},
     "output_type": "execute_result"
    }
   ],
   "source": [
    "data = pd.read_excel(\"~/Downloads/IMT 570 Tableau Exercise avg time online (1).xlsx\")\n",
    "data.head()"
   ]
  },
  {
   "cell_type": "code",
   "execution_count": 52,
   "id": "e766735d-3eb8-499b-baa5-e0bf71cb3958",
   "metadata": {},
   "outputs": [
    {
     "data": {
      "text/plain": [
       "County                       0\n",
       "Region                       0\n",
       "State                        0\n",
       "Screen time hours            2\n",
       "Poor mood percent of time    2\n",
       "dtype: int64"
      ]
     },
     "execution_count": 52,
     "metadata": {},
     "output_type": "execute_result"
    }
   ],
   "source": [
    "# Cleaning\n",
    "data.isna().sum()"
   ]
  },
  {
   "cell_type": "code",
   "execution_count": 53,
   "id": "07806f0e-6b74-4323-97ad-869bd1443302",
   "metadata": {},
   "outputs": [
    {
     "data": {
      "text/plain": [
       "(3141, 5)"
      ]
     },
     "execution_count": 53,
     "metadata": {},
     "output_type": "execute_result"
    }
   ],
   "source": [
    "data.shape"
   ]
  },
  {
   "cell_type": "code",
   "execution_count": 54,
   "id": "248275f7-986e-4c2c-93f5-d080826d4ac9",
   "metadata": {},
   "outputs": [],
   "source": [
    "data = data.dropna()"
   ]
  },
  {
   "cell_type": "code",
   "execution_count": 55,
   "id": "98771206-1ed6-44e9-8525-15e4c0a7f4c8",
   "metadata": {},
   "outputs": [
    {
     "data": {
      "text/plain": [
       "(3139, 5)"
      ]
     },
     "execution_count": 55,
     "metadata": {},
     "output_type": "execute_result"
    }
   ],
   "source": [
    "data.shape"
   ]
  },
  {
   "cell_type": "code",
   "execution_count": 56,
   "id": "950234fb-2898-48ce-8ec1-bda471d9ecc5",
   "metadata": {},
   "outputs": [
    {
     "data": {
      "text/html": [
       "<div>\n",
       "<style scoped>\n",
       "    .dataframe tbody tr th:only-of-type {\n",
       "        vertical-align: middle;\n",
       "    }\n",
       "\n",
       "    .dataframe tbody tr th {\n",
       "        vertical-align: top;\n",
       "    }\n",
       "\n",
       "    .dataframe thead th {\n",
       "        text-align: right;\n",
       "    }\n",
       "</style>\n",
       "<table border=\"1\" class=\"dataframe\">\n",
       "  <thead>\n",
       "    <tr style=\"text-align: right;\">\n",
       "      <th></th>\n",
       "      <th>Screen time hours</th>\n",
       "      <th>Poor mood percent of time</th>\n",
       "    </tr>\n",
       "  </thead>\n",
       "  <tbody>\n",
       "    <tr>\n",
       "      <th>count</th>\n",
       "      <td>3139.000000</td>\n",
       "      <td>3139.000000</td>\n",
       "    </tr>\n",
       "    <tr>\n",
       "      <th>mean</th>\n",
       "      <td>6.005097</td>\n",
       "      <td>0.132626</td>\n",
       "    </tr>\n",
       "    <tr>\n",
       "      <th>std</th>\n",
       "      <td>2.132028</td>\n",
       "      <td>0.054873</td>\n",
       "    </tr>\n",
       "    <tr>\n",
       "      <th>min</th>\n",
       "      <td>1.000000</td>\n",
       "      <td>0.000000</td>\n",
       "    </tr>\n",
       "    <tr>\n",
       "      <th>25%</th>\n",
       "      <td>5.000000</td>\n",
       "      <td>0.083000</td>\n",
       "    </tr>\n",
       "    <tr>\n",
       "      <th>50%</th>\n",
       "      <td>6.000000</td>\n",
       "      <td>0.129000</td>\n",
       "    </tr>\n",
       "    <tr>\n",
       "      <th>75%</th>\n",
       "      <td>7.000000</td>\n",
       "      <td>0.176000</td>\n",
       "    </tr>\n",
       "    <tr>\n",
       "      <th>max</th>\n",
       "      <td>14.000000</td>\n",
       "      <td>0.338000</td>\n",
       "    </tr>\n",
       "  </tbody>\n",
       "</table>\n",
       "</div>"
      ],
      "text/plain": [
       "       Screen time hours  Poor mood percent of time\n",
       "count        3139.000000                3139.000000\n",
       "mean            6.005097                   0.132626\n",
       "std             2.132028                   0.054873\n",
       "min             1.000000                   0.000000\n",
       "25%             5.000000                   0.083000\n",
       "50%             6.000000                   0.129000\n",
       "75%             7.000000                   0.176000\n",
       "max            14.000000                   0.338000"
      ]
     },
     "execution_count": 56,
     "metadata": {},
     "output_type": "execute_result"
    }
   ],
   "source": [
    "data.describe()"
   ]
  },
  {
   "cell_type": "code",
   "execution_count": 57,
   "id": "23e1a7af-3b88-40b7-bef0-1c4873cffefb",
   "metadata": {},
   "outputs": [],
   "source": [
    "data.columns = data.columns.str.replace(' ', '_')"
   ]
  },
  {
   "cell_type": "code",
   "execution_count": 58,
   "id": "cb25eaf8-b83c-40e8-a224-d529deddc44a",
   "metadata": {},
   "outputs": [
    {
     "data": {
      "text/html": [
       "<div>\n",
       "<style scoped>\n",
       "    .dataframe tbody tr th:only-of-type {\n",
       "        vertical-align: middle;\n",
       "    }\n",
       "\n",
       "    .dataframe tbody tr th {\n",
       "        vertical-align: top;\n",
       "    }\n",
       "\n",
       "    .dataframe thead th {\n",
       "        text-align: right;\n",
       "    }\n",
       "</style>\n",
       "<table border=\"1\" class=\"dataframe\">\n",
       "  <thead>\n",
       "    <tr style=\"text-align: right;\">\n",
       "      <th></th>\n",
       "      <th>County</th>\n",
       "      <th>Region</th>\n",
       "      <th>State</th>\n",
       "      <th>Screen_time_hours</th>\n",
       "      <th>Poor_mood_percent_of_time</th>\n",
       "    </tr>\n",
       "  </thead>\n",
       "  <tbody>\n",
       "    <tr>\n",
       "      <th>0</th>\n",
       "      <td>Shelby</td>\n",
       "      <td>South</td>\n",
       "      <td>Alabama</td>\n",
       "      <td>8.0</td>\n",
       "      <td>0.176</td>\n",
       "    </tr>\n",
       "    <tr>\n",
       "      <th>1</th>\n",
       "      <td>Lee</td>\n",
       "      <td>South</td>\n",
       "      <td>Alabama</td>\n",
       "      <td>8.0</td>\n",
       "      <td>0.176</td>\n",
       "    </tr>\n",
       "    <tr>\n",
       "      <th>2</th>\n",
       "      <td>Elmore</td>\n",
       "      <td>South</td>\n",
       "      <td>Alabama</td>\n",
       "      <td>8.0</td>\n",
       "      <td>0.176</td>\n",
       "    </tr>\n",
       "    <tr>\n",
       "      <th>3</th>\n",
       "      <td>Tuscaloosa</td>\n",
       "      <td>South</td>\n",
       "      <td>Alabama</td>\n",
       "      <td>8.0</td>\n",
       "      <td>0.176</td>\n",
       "    </tr>\n",
       "    <tr>\n",
       "      <th>4</th>\n",
       "      <td>Madison</td>\n",
       "      <td>South</td>\n",
       "      <td>Alabama</td>\n",
       "      <td>8.0</td>\n",
       "      <td>0.176</td>\n",
       "    </tr>\n",
       "    <tr>\n",
       "      <th>...</th>\n",
       "      <td>...</td>\n",
       "      <td>...</td>\n",
       "      <td>...</td>\n",
       "      <td>...</td>\n",
       "      <td>...</td>\n",
       "    </tr>\n",
       "    <tr>\n",
       "      <th>3136</th>\n",
       "      <td>Fremont</td>\n",
       "      <td>West</td>\n",
       "      <td>Wyoming</td>\n",
       "      <td>7.0</td>\n",
       "      <td>0.152</td>\n",
       "    </tr>\n",
       "    <tr>\n",
       "      <th>3137</th>\n",
       "      <td>Goshen</td>\n",
       "      <td>West</td>\n",
       "      <td>Wyoming</td>\n",
       "      <td>7.0</td>\n",
       "      <td>0.152</td>\n",
       "    </tr>\n",
       "    <tr>\n",
       "      <th>3138</th>\n",
       "      <td>Platte</td>\n",
       "      <td>West</td>\n",
       "      <td>Wyoming</td>\n",
       "      <td>7.0</td>\n",
       "      <td>0.152</td>\n",
       "    </tr>\n",
       "    <tr>\n",
       "      <th>3139</th>\n",
       "      <td>Washakie</td>\n",
       "      <td>West</td>\n",
       "      <td>Wyoming</td>\n",
       "      <td>7.0</td>\n",
       "      <td>0.152</td>\n",
       "    </tr>\n",
       "    <tr>\n",
       "      <th>3140</th>\n",
       "      <td>Hot Springs</td>\n",
       "      <td>West</td>\n",
       "      <td>Wyoming</td>\n",
       "      <td>7.0</td>\n",
       "      <td>0.152</td>\n",
       "    </tr>\n",
       "  </tbody>\n",
       "</table>\n",
       "<p>3139 rows × 5 columns</p>\n",
       "</div>"
      ],
      "text/plain": [
       "           County Region    State  Screen_time_hours  \\\n",
       "0          Shelby  South  Alabama                8.0   \n",
       "1             Lee  South  Alabama                8.0   \n",
       "2          Elmore  South  Alabama                8.0   \n",
       "3      Tuscaloosa  South  Alabama                8.0   \n",
       "4         Madison  South  Alabama                8.0   \n",
       "...           ...    ...      ...                ...   \n",
       "3136      Fremont   West  Wyoming                7.0   \n",
       "3137       Goshen   West  Wyoming                7.0   \n",
       "3138       Platte   West  Wyoming                7.0   \n",
       "3139     Washakie   West  Wyoming                7.0   \n",
       "3140  Hot Springs   West  Wyoming                7.0   \n",
       "\n",
       "      Poor_mood_percent_of_time  \n",
       "0                         0.176  \n",
       "1                         0.176  \n",
       "2                         0.176  \n",
       "3                         0.176  \n",
       "4                         0.176  \n",
       "...                         ...  \n",
       "3136                      0.152  \n",
       "3137                      0.152  \n",
       "3138                      0.152  \n",
       "3139                      0.152  \n",
       "3140                      0.152  \n",
       "\n",
       "[3139 rows x 5 columns]"
      ]
     },
     "execution_count": 58,
     "metadata": {},
     "output_type": "execute_result"
    }
   ],
   "source": [
    "data"
   ]
  },
  {
   "cell_type": "markdown",
   "id": "5f4aa904-933a-47d8-9de3-87e6dd0ebc06",
   "metadata": {},
   "source": [
    "## 2. Model creation"
   ]
  },
  {
   "cell_type": "code",
   "execution_count": 63,
   "id": "35505cbb-9a5c-413b-b324-3fd3b05ab017",
   "metadata": {},
   "outputs": [
    {
     "name": "stdout",
     "output_type": "stream",
     "text": [
      "This is the pearson correlation coefficient [0.86741439] between Screen time hours and poor mood percent of time telling us there is a high positive correlation between the variables\n"
     ]
    }
   ],
   "source": [
    "# Pearson correlation coefficient\n",
    "from sklearn.feature_selection import r_regression\n",
    "\n",
    "X = data[[\"Screen_time_hours\"]]\n",
    "y = data[\"Poor_mood_percent_of_time\"]\n",
    "\n",
    "_r = r_regression(X, y)\n",
    "print(f'This is the pearson correlation coefficient {_r} between Screen time hours and poor mood percent of time telling us there is a high positive correlation between the variables')"
   ]
  },
  {
   "cell_type": "code",
   "execution_count": 64,
   "id": "74f10bf0-65be-41c1-b2da-009089440df7",
   "metadata": {},
   "outputs": [
    {
     "name": "stdout",
     "output_type": "stream",
     "text": [
      "                                OLS Regression Results                               \n",
      "=====================================================================================\n",
      "Dep. Variable:     Poor_mood_percent_of_time   R-squared:                       0.752\n",
      "Model:                                   OLS   Adj. R-squared:                  0.752\n",
      "Method:                        Least Squares   F-statistic:                     9533.\n",
      "Date:                       Sat, 20 May 2023   Prob (F-statistic):               0.00\n",
      "Time:                               11:29:36   Log-Likelihood:                 6849.1\n",
      "No. Observations:                       3139   AIC:                        -1.369e+04\n",
      "Df Residuals:                           3137   BIC:                        -1.368e+04\n",
      "Df Model:                                  1                                         \n",
      "Covariance Type:                   nonrobust                                         \n",
      "=====================================================================================\n",
      "                        coef    std err          t      P>|t|      [0.025      0.975]\n",
      "-------------------------------------------------------------------------------------\n",
      "Intercept            -0.0014      0.001     -0.986      0.324      -0.004       0.001\n",
      "Screen_time_hours     0.0223      0.000     97.637      0.000       0.022       0.023\n",
      "==============================================================================\n",
      "Omnibus:                     1734.261   Durbin-Watson:                   0.190\n",
      "Prob(Omnibus):                  0.000   Jarque-Bera (JB):            22221.876\n",
      "Skew:                           2.354   Prob(JB):                         0.00\n",
      "Kurtosis:                      15.155   Cond. No.                         19.5\n",
      "==============================================================================\n",
      "\n",
      "Notes:\n",
      "[1] Standard Errors assume that the covariance matrix of the errors is correctly specified.\n"
     ]
    }
   ],
   "source": [
    "# Regression analysis\n",
    "\n",
    "import statsmodels.formula.api as smf\n",
    "m = smf.ols(\"Poor_mood_percent_of_time ~ Screen_time_hours\", data=data).fit()\n",
    "\n",
    "summary = m.summary()\n",
    "print(m.summary())"
   ]
  },
  {
   "cell_type": "markdown",
   "id": "a8a561d2-58e5-47e7-b6e9-2bb4c6728ffd",
   "metadata": {},
   "source": [
    "### Regression analysis\n",
    "p-value -> 0.000 <br>\n",
    "Beta -> 0.0223 <br>\n",
    "r_squared -> .752 <br>"
   ]
  },
  {
   "cell_type": "code",
   "execution_count": 61,
   "id": "2f1b0a3d-7644-4449-8ada-d56b084b6a66",
   "metadata": {},
   "outputs": [
    {
     "data": {
      "image/png": "[encoded data removed]",
      "text/plain": [
       "<Figure size 640x480 with 1 Axes>"
      ]
     },
     "metadata": {},
     "output_type": "display_data"
    }
   ],
   "source": [
    "# Visualization of data\n",
    "\n",
    "import seaborn as sns\n",
    "\n",
    "_ = sns.regplot(x=\"Screen_time_hours\", y = \"Poor_mood_percent_of_time\", \n",
    "                scatter_kws = {\"color\":\"black\", \"s\":25, \"alpha\":0.3}, \n",
    "                line_kws = {\"color\":\"red\"}, data=data )\n"
   ]
  },
  {
   "cell_type": "markdown",
   "id": "3ec9afc5-3c0f-441f-8387-e648b50a4269",
   "metadata": {},
   "source": [
    "## Interpretation of results\n",
    "For our analysis the r_squared is .75 which tells us that 75% of the percentage of time having poor mood variancce is explained by the amount of time in hours a person stares at the screen. We also see a p-value of 0 which tells us that we can reject the null hypothesis and assure that screen time hours have a statistically significant impact on the poor mood of a person. \n",
    "\n",
    "## Personal opinion\n",
    "I will assume this is data of people staring at a computer screen. I think this is a great model to predict the mood of the people who spend time using the computer. I would just like to know where the data is coming from and for what type of population it is aiming for. The p_value is too low and makes me want to try again with other data sample. In the end this is a good model to advise people on taking breaks and try to not watch a screen for a long time. I would also like to gather data on the task the participants are performing while staring at the screen. This because maybe too much time spent on a screen might be due to the participants being working which can cause stress and bad mood to plenty of people. Another factor to take in consideration is \"age\" which tells us about the type of activities and obligations they have during the day which can cause poor mood too. Lastly I would also like to track the place where the participant is. These data should be gathered depending on the purpose of the research or model. "
   ]
  },
  {
   "cell_type": "code",
   "execution_count": null,
   "id": "ed86329c-e297-49e1-a08c-1a228135c2a1",
   "metadata": {},
   "outputs": [],
   "source": []
  }
 ],
 "metadata": {
  "kernelspec": {
   "display_name": "Python 3 (ipykernel)",
   "language": "python",
   "name": "python3"
  },
  "language_info": {
   "codemirror_mode": {
    "name": "ipython",
    "version": 3
   },
   "file_extension": ".py",
   "mimetype": "text/x-python",
   "name": "python",
   "nbconvert_exporter": "python",
   "pygments_lexer": "ipython3",
   "version": "3.9.12"
  }
 },
 "nbformat": 4,
 "nbformat_minor": 5
}
