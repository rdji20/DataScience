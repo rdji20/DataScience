{
 "cells": [
  {
   "cell_type": "markdown",
   "id": "d26b6891-656b-46cc-8d5c-5698d2851685",
   "metadata": {},
   "source": [
    "# Analysis for bump User Interaction prediction"
   ]
  },
  {
   "cell_type": "markdown",
   "id": "89671466-bcbf-4992-af95-f98346772141",
   "metadata": {},
   "source": [
    "I am doing this analysis to start the user acquisition model from a more quantifiable perspective. The goal of this analysis is to understand how the gamification system in the user acquisition model is going to work per year. I want to make sure that we are creating a system that is going to properly distribute the rewards and see how much it will cost us per year to add it to the revenue model. "
   ]
  },
  {
   "cell_type": "markdown",
   "id": "1e434c04-e4d7-4a4d-944a-8c82993152f8",
   "metadata": {},
   "source": [
    "## Creating constants\n",
    "I am assuming here that the least amount of times that a person our age goes out is one per week. And the most times that a person goes out is 5 times per week. I am creating a random scenario of a year in which 60,000 people are going out random amount of times between 52 and 260. "
   ]
  },
  {
   "cell_type": "code",
   "execution_count": 14,
   "id": "41b1d15c-ea54-4ae5-aa16-6906cded5cf1",
   "metadata": {},
   "outputs": [],
   "source": [
    "import numpy as np\n",
    "import pandas as pd\n",
    "import matplotlib.pyplot as plt"
   ]
  },
  {
   "cell_type": "code",
   "execution_count": 29,
   "id": "69a6e201-501d-40e3-8fc6-91cd435f9177",
   "metadata": {},
   "outputs": [],
   "source": [
    "mu, sigma = 0, 0.1"
   ]
  },
  {
   "cell_type": "code",
   "execution_count": 60,
   "id": "8831c460-36ca-46a7-aa25-e25a5166235f",
   "metadata": {},
   "outputs": [],
   "source": [
    "import random\n",
    "\n",
    "uncetainty_var = 0\n",
    "\n",
    "users_timesGoingOut_list = np.random.normal(156, 20, 60000)\n",
    "    "
   ]
  },
  {
   "cell_type": "code",
   "execution_count": 61,
   "id": "f34d1268-8247-4f96-9112-037b243cdf9c",
   "metadata": {},
   "outputs": [
    {
     "data": {
      "text/plain": [
       "60000"
      ]
     },
     "execution_count": 61,
     "metadata": {},
     "output_type": "execute_result"
    }
   ],
   "source": [
    "len(users_timesGoingOut_list)"
   ]
  },
  {
   "cell_type": "code",
   "execution_count": 62,
   "id": "0c4e23dc-014c-4b56-88b2-da24f60ce3a4",
   "metadata": {},
   "outputs": [
    {
     "name": "stdout",
     "output_type": "stream",
     "text": [
      "The average amount of times that people go out from our fake scenario are:  156.03937937499174\n"
     ]
    }
   ],
   "source": [
    "print(\"The average amount of times that people go out from our fake scenario are: \", str(np.mean(users_timesGoingOut_list)))"
   ]
  },
  {
   "cell_type": "code",
   "execution_count": 63,
   "id": "053125fd-3160-4112-a87b-db2532e7ab62",
   "metadata": {},
   "outputs": [
    {
     "data": {
      "image/png": "[encoded data removed]",
      "text/plain": [
       "<Figure size 432x288 with 1 Axes>"
      ]
     },
     "metadata": {
      "needs_background": "light"
     },
     "output_type": "display_data"
    }
   ],
   "source": [
    "## Distribution of our goal in which people go out randonly depending on what they are doing in their lives.\n",
    "\n",
    "distribution1 = np.array(users_timesGoingOut_list)\n",
    "_ = plt.hist(users_timesGoingOut_list, bins=50)"
   ]
  },
  {
   "cell_type": "markdown",
   "id": "7c8a7ead-e4c1-4568-bfa1-2414ac6dcb85",
   "metadata": {},
   "source": [
    "I think this is not correct but it gives us a good estimate on how many times a person goes out to start our user acquisition budget. This means that the average times a person goes out is 3 times per week. "
   ]
  },
  {
   "cell_type": "markdown",
   "id": "65927d36-8be4-4c94-af8b-53fbf583145e",
   "metadata": {},
   "source": [
    "## Intangibles\n",
    "Since we are dealing with a group of people that also has the money to travel a lot we need to shorten the amount of weeks that a user stays in a city. Instead of aiming for 52 weeks, throughout surveys we did with our main users, we found out that they are out of the city within a range of 4 to 6 weeks per year. Which is going to lower our average to 140 times per year in which a person workinig in tech goes out on average yearly. "
   ]
  },
  {
   "cell_type": "markdown",
   "id": "8d1a5897-887e-43e3-b79d-053d77c96c22",
   "metadata": {},
   "source": [
    "## Comments\n",
    "From our research we found out that 72 percent of the people still struggle to go out, hence we do not think that this distribution is accurate on what we think is happening currently with people working in tech. In fact, we would excpect a distrribution that is not random but actually skewed to the right in which the 30% of the people are the ones that are enjoying going out. This can be because they already have a group of people or because they have settled, etc. "
   ]
  },
  {
   "cell_type": "code",
   "execution_count": 65,
   "id": "822f12f1-6e46-4cec-b230-4847581dedd3",
   "metadata": {},
   "outputs": [
    {
     "data": {
      "text/plain": [
       "9362362.762499504"
      ]
     },
     "execution_count": 65,
     "metadata": {},
     "output_type": "execute_result"
    }
   ],
   "source": [
    "# Sum of all the times our user base go out to a place\n",
    "total_times_goingOut = np.sum(users_timesGoingOut_list)\n",
    "total_times_goingOut"
   ]
  },
  {
   "cell_type": "markdown",
   "id": "06e53eef-c300-4fe9-8a4f-c5e97c627498",
   "metadata": {},
   "source": [
    "Following pareto distribution on the amount of times that a person goes out, we expect that 80% of the times a person is going to go to similar places, places around them, and overal places where more people go. We can expect that 70% to 80% of the times they are goinig to go to restaurants, bars and things to do in Seattle."
   ]
  },
  {
   "cell_type": "code",
   "execution_count": 70,
   "id": "2ad7991c-6412-4702-ba2f-34381ab7024d",
   "metadata": {},
   "outputs": [
    {
     "data": {
      "text/plain": [
       "7489890.209999603"
      ]
     },
     "execution_count": 70,
     "metadata": {},
     "output_type": "execute_result"
    }
   ],
   "source": [
    "# Amount of times users go out to a place that interest us for the budget\n",
    "net_total_times_GO = total_times_goingOut * .80\n",
    "net_total_times_GO"
   ]
  },
  {
   "cell_type": "code",
   "execution_count": 75,
   "id": "5814c205-aede-4fd5-b3f1-7944bae370cb",
   "metadata": {},
   "outputs": [
    {
     "name": "stdout",
     "output_type": "stream",
     "text": [
      "We need to charge  0.23631855078955738  cents per success fee if all the 7489890 interactions from our user base are within the companies using bump for advertisemtn \n"
     ]
    }
   ],
   "source": [
    "# Founder insitute 1 million revenue in 18 months operation\n",
    "\n",
    "expenses_acq = 180_000\n",
    "\n",
    "x = (1000000 + expenses_acq) / net_total_times_GO / 12 * 18 \n",
    "print(\"We need to charge \", x, \" cents per success fee if all the 7489890 interactions from our user base are within the companies using bump for advertisemtn \")"
   ]
  },
  {
   "cell_type": "markdown",
   "id": "09d18d50-63b5-4a64-b64f-5a741a749a32",
   "metadata": {},
   "source": [
    "Average local businesses earn 100,000 per year, with an average spending in marketing of 2% of their income which is 2,000 dollars."
   ]
  },
  {
   "cell_type": "code",
   "execution_count": 78,
   "id": "c9fd8266-bbd7-4756-ac58-e3d178b60567",
   "metadata": {},
   "outputs": [
    {
     "name": "stdout",
     "output_type": "stream",
     "text": [
      "Dollars per average user:  35.1\n"
     ]
    }
   ],
   "source": [
    "# Equation to find estimate revenue from interactions of 60,000 users in normal distribution\n",
    "p_local = 0.5\n",
    "cps = 0.3\n",
    "average_times_going_out = 234\n",
    "\n",
    "net_times = average_times_going_out * p_local \n",
    "print(\"Dollars per average user: \", net_times * cps)"
   ]
  },
  {
   "cell_type": "code",
   "execution_count": 81,
   "id": "3b81589b-930f-426a-a70b-b86707fd096b",
   "metadata": {},
   "outputs": [
    {
     "name": "stdout",
     "output_type": "stream",
     "text": [
      "We need  2564.102564102564  users to get to 1,000,000 revenue in 18 months if we do not spend on uber gift cards\n"
     ]
    }
   ],
   "source": [
    "print(\"We need \", 1_000_000 / net_times * cps, \" users to get to 1,000,000 revenue in 18 months if we do not spend on uber gift cards\" )"
   ]
  },
  {
   "cell_type": "code",
   "execution_count": null,
   "id": "7348a781-58cf-460a-8bbf-14a78daf2b69",
   "metadata": {},
   "outputs": [],
   "source": []
  }
 ],
 "metadata": {
  "kernelspec": {
   "display_name": "Python 3",
   "language": "python",
   "name": "python3"
  },
  "language_info": {
   "codemirror_mode": {
    "name": "ipython",
    "version": 3
   },
   "file_extension": ".py",
   "mimetype": "text/x-python",
   "name": "python",
   "nbconvert_exporter": "python",
   "pygments_lexer": "ipython3",
   "version": "3.8.8"
  }
 },
 "nbformat": 4,
 "nbformat_minor": 5
}
